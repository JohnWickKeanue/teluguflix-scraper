{
  "nbformat": 4,
  "nbformat_minor": 0,
  "metadata": {
    "colab": {
      "provenance": [],
      "authorship_tag": "ABX9TyMG6tKAtdQxgPTMoCBSlwxu",
      "include_colab_link": true
    },
    "kernelspec": {
      "name": "python3",
      "display_name": "Python 3"
    },
    "language_info": {
      "name": "python"
    }
  },
  "cells": [
    {
      "cell_type": "markdown",
      "metadata": {
        "id": "view-in-github",
        "colab_type": "text"
      },
      "source": [
        "<a href=\"https://colab.research.google.com/github/JohnWickKeanue/teluguflix-scraper/blob/main/teluguflix.ipynb\" target=\"_parent\"><img src=\"https://colab.research.google.com/assets/colab-badge.svg\" alt=\"Open In Colab\"/></a>"
      ]
    },
    {
      "cell_type": "code",
      "execution_count": null,
      "metadata": {
        "id": "2K8RgNkvIxzL"
      },
      "outputs": [],
      "source": [
        "\n",
        "#@title <b><center>Enter teluguflix link</center></b>\n",
        "import time\n",
        "from bs4 import BeautifulSoup\n",
        "import requests\n",
        "\n",
        "url = \"https://teluguflix.xyz/aha-naa-pellanta-2022-season01-all-episodes-download-zee5-web-dl-4k-2160p-1080p-720p-480p-hevc-avc-dd5-1-192kbps-esubs/\"#@param {type:\"string\"}\n",
        "\n",
        "def flix(url):\n",
        "    client = requests.session()\n",
        "    Jack = client.get(url).text\n",
        "    soup = BeautifulSoup (Jack, \"html.parser\")\n",
        "    for a in soup.find_all(\"a\"):\n",
        "              c = a.get(\"href\") \n",
        "              if \"gdtot\" in c:\n",
        "                     t = client.get(c).text\n",
        "                     soupt = BeautifulSoup(t, \"html.parser\")\n",
        "                     title = soupt.title\n",
        "                     gd_txt = f\"{(title.text).replace('GDToT | ' , '')}\\n{c}\\n\\n\"\n",
        "                     print(gd_txt) \n",
        "\n",
        "print(flix(url))"
      ]
    }
  ]
}